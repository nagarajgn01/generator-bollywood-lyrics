{
  "nbformat": 4,
  "nbformat_minor": 0,
  "metadata": {
    "colab": {
      "name": "Bollywood_Lyrics_Generator.ipynb",
      "provenance": [],
      "collapsed_sections": []
    },
    "kernelspec": {
      "name": "python3",
      "display_name": "Python 3"
    },
    "accelerator": "TPU"
  },
  "cells": [
    {
      "cell_type": "code",
      "metadata": {
        "id": "goEScP56zivk"
      },
      "source": [
        "import os\n",
        "os.chdir('/content/drive/My Drive/Other Projects/Bollywood Lyrics/Bollywood dataset')"
      ],
      "execution_count": 1,
      "outputs": []
    },
    {
      "cell_type": "code",
      "metadata": {
        "id": "cV8Ppglhz96Z"
      },
      "source": [
        "import pandas as pd\n",
        "import numpy as np\n",
        "import tensorflow as tf"
      ],
      "execution_count": 2,
      "outputs": []
    },
    {
      "cell_type": "code",
      "metadata": {
        "id": "fxcT4oCv0GEK"
      },
      "source": [
        "dfLyrics = pd.read_csv('lyrics.csv')"
      ],
      "execution_count": 3,
      "outputs": []
    },
    {
      "cell_type": "code",
      "metadata": {
        "id": "HnnxdzOc0SSZ",
        "colab": {
          "base_uri": "https://localhost:8080/"
        },
        "outputId": "e2a711aa-5cc0-4186-901d-36699e3eb27a"
      },
      "source": [
        "dfLyrics.sample()['Lyrics']"
      ],
      "execution_count": 4,
      "outputs": [
        {
          "output_type": "execute_result",
          "data": {
            "text/plain": [
              "681    \\n\\nSaawali si raat ho\\nKhamoshi ka saath ho.....\n",
              "Name: Lyrics, dtype: object"
            ]
          },
          "metadata": {
            "tags": []
          },
          "execution_count": 4
        }
      ]
    },
    {
      "cell_type": "code",
      "metadata": {
        "id": "6OVhhZZAqGaf"
      },
      "source": [
        "removelist = ['\\n--Male--','\\n--Male1--','\\n--Female--','\\n--Female1--','\\n--Female2--','\\n--Male2--','\\n--Male1 And Male2--','\\x7f']\n",
        "for word in removelist:\n",
        "  dfLyrics.Lyrics=dfLyrics.Lyrics.str.replace(word,'')"
      ],
      "execution_count": 5,
      "outputs": []
    },
    {
      "cell_type": "code",
      "metadata": {
        "id": "w6LzV4Hu6zhF",
        "colab": {
          "base_uri": "https://localhost:8080/"
        },
        "outputId": "a19842e5-c262-4117-b2d4-4e3cca139e21"
      },
      "source": [
        "dfLyrics.Lyrics"
      ],
      "execution_count": 6,
      "outputs": [
        {
          "output_type": "execute_result",
          "data": {
            "text/plain": [
              "0       \\n\\nAaaaa Aaaaa\\nAaaaaa\\nAaaaaa\\nMeetha Sa Ish...\n",
              "1       \\n\\nAnkhiyon Hi Ankhiyon Mein\\nRatiyaan Yeh Ka...\n",
              "2       \\n\\nAray Peeli Chotiyaan,\\nHawaeyn Sehen Si\\nM...\n",
              "3       \\n\\nPyar Itna Na Kar\\nYeh Dil Jaata Hai Bhar\\n...\n",
              "4       Zaraa Maara Maara Sa\\nJaane Kyun Dil Ye Ban Ba...\n",
              "                              ...                        \n",
              "1286     \\n\\nKaara fankaara kab aaye re\\nKaara fankaar...\n",
              "1287     \\n\\nZameen-o-aasmaan ne kya baat ki hai\\nGira...\n",
              "1288     \\n\\nMaula Wa Sallim wassalim da-iman abadan\\n...\n",
              "1289     \\n\\nBhavara\\nRe ga re ga re ga re ga pa ma ga...\n",
              "1290     \\n\\nArre udi udi udi... udi jaye..\\n\\nUdi udi...\n",
              "Name: Lyrics, Length: 1291, dtype: object"
            ]
          },
          "metadata": {
            "tags": []
          },
          "execution_count": 6
        }
      ]
    },
    {
      "cell_type": "code",
      "metadata": {
        "id": "dXpzkPrUS5Pj",
        "colab": {
          "base_uri": "https://localhost:8080/"
        },
        "outputId": "f2df43b4-db0e-496c-c822-f69177c7e9ff"
      },
      "source": [
        "dfLyrics.Lyrics.apply(lambda x: '--Fem' in x).value_counts()"
      ],
      "execution_count": 7,
      "outputs": [
        {
          "output_type": "execute_result",
          "data": {
            "text/plain": [
              "False    1291\n",
              "Name: Lyrics, dtype: int64"
            ]
          },
          "metadata": {
            "tags": []
          },
          "execution_count": 7
        }
      ]
    },
    {
      "cell_type": "code",
      "metadata": {
        "id": "ED6lizz4YVhj",
        "colab": {
          "base_uri": "https://localhost:8080/"
        },
        "outputId": "0d81c255-bef9-430c-c01b-5faa436d9793"
      },
      "source": [
        "dfLyrics.Lyrics.apply(lambda x: '--Male' in x).value_counts()"
      ],
      "execution_count": 8,
      "outputs": [
        {
          "output_type": "execute_result",
          "data": {
            "text/plain": [
              "False    1291\n",
              "Name: Lyrics, dtype: int64"
            ]
          },
          "metadata": {
            "tags": []
          },
          "execution_count": 8
        }
      ]
    },
    {
      "cell_type": "code",
      "metadata": {
        "id": "YvKSuyP7W_-U",
        "colab": {
          "base_uri": "https://localhost:8080/",
          "height": 80
        },
        "outputId": "234680be-a584-4611-b146-938e3cc2e011"
      },
      "source": [
        "dfLyrics[dfLyrics.Lyrics.apply(lambda x: '_' in x)]\n",
        "#\\x7f': 83,\n",
        "# 'à': 84,\n",
        "# 'é': 85"
      ],
      "execution_count": 9,
      "outputs": [
        {
          "output_type": "execute_result",
          "data": {
            "text/html": [
              "<div>\n",
              "<style scoped>\n",
              "    .dataframe tbody tr th:only-of-type {\n",
              "        vertical-align: middle;\n",
              "    }\n",
              "\n",
              "    .dataframe tbody tr th {\n",
              "        vertical-align: top;\n",
              "    }\n",
              "\n",
              "    .dataframe thead th {\n",
              "        text-align: right;\n",
              "    }\n",
              "</style>\n",
              "<table border=\"1\" class=\"dataframe\">\n",
              "  <thead>\n",
              "    <tr style=\"text-align: right;\">\n",
              "      <th></th>\n",
              "      <th>SongID</th>\n",
              "      <th>Lyrics</th>\n",
              "    </tr>\n",
              "  </thead>\n",
              "  <tbody>\n",
              "    <tr>\n",
              "      <th>1226</th>\n",
              "      <td>1519</td>\n",
              "      <td>\\n\\nMaine suna hai tu twenty plus ho gayi\\nCh...</td>\n",
              "    </tr>\n",
              "  </tbody>\n",
              "</table>\n",
              "</div>"
            ],
            "text/plain": [
              "      SongID                                             Lyrics\n",
              "1226    1519   \\n\\nMaine suna hai tu twenty plus ho gayi\\nCh..."
            ]
          },
          "metadata": {
            "tags": []
          },
          "execution_count": 9
        }
      ]
    },
    {
      "cell_type": "code",
      "metadata": {
        "id": "8-lYQLGp-5Cf"
      },
      "source": [
        "dfLyrics.Lyrics = dfLyrics.Lyrics.str.replace('à','a')\n",
        "dfLyrics.Lyrics = dfLyrics.Lyrics.str.replace('é','e')"
      ],
      "execution_count": 10,
      "outputs": []
    },
    {
      "cell_type": "code",
      "metadata": {
        "id": "gnPG6AvEpcy6"
      },
      "source": [
        "#dfLyrics.Lyrics = dfLyrics.Lyrics.str.replace('[^\\w\\s]','')"
      ],
      "execution_count": 11,
      "outputs": []
    },
    {
      "cell_type": "code",
      "metadata": {
        "id": "vep4ToWp7bXm"
      },
      "source": [
        "#dfLyrics.Lyrics = dfLyrics.Lyrics.apply(lambda x:x.lower())"
      ],
      "execution_count": 12,
      "outputs": []
    },
    {
      "cell_type": "code",
      "metadata": {
        "id": "bo0BTOqD8oEN",
        "colab": {
          "base_uri": "https://localhost:8080/"
        },
        "outputId": "2a66ee3d-3725-4078-d213-4c237b24be5b"
      },
      "source": [
        "dfLyrics.Lyrics"
      ],
      "execution_count": 13,
      "outputs": [
        {
          "output_type": "execute_result",
          "data": {
            "text/plain": [
              "0       \\n\\nAaaaa Aaaaa\\nAaaaaa\\nAaaaaa\\nMeetha Sa Ish...\n",
              "1       \\n\\nAnkhiyon Hi Ankhiyon Mein\\nRatiyaan Yeh Ka...\n",
              "2       \\n\\nAray Peeli Chotiyaan,\\nHawaeyn Sehen Si\\nM...\n",
              "3       \\n\\nPyar Itna Na Kar\\nYeh Dil Jaata Hai Bhar\\n...\n",
              "4       Zaraa Maara Maara Sa\\nJaane Kyun Dil Ye Ban Ba...\n",
              "                              ...                        \n",
              "1286     \\n\\nKaara fankaara kab aaye re\\nKaara fankaar...\n",
              "1287     \\n\\nZameen-o-aasmaan ne kya baat ki hai\\nGira...\n",
              "1288     \\n\\nMaula Wa Sallim wassalim da-iman abadan\\n...\n",
              "1289     \\n\\nBhavara\\nRe ga re ga re ga re ga pa ma ga...\n",
              "1290     \\n\\nArre udi udi udi... udi jaye..\\n\\nUdi udi...\n",
              "Name: Lyrics, Length: 1291, dtype: object"
            ]
          },
          "metadata": {
            "tags": []
          },
          "execution_count": 13
        }
      ]
    },
    {
      "cell_type": "code",
      "metadata": {
        "id": "L5-VI4Vo8aGl"
      },
      "source": [
        "#dfLyrics.Lyrics=dfLyrics.Lyrics.str.replace(r'\\d+','')"
      ],
      "execution_count": 14,
      "outputs": []
    },
    {
      "cell_type": "code",
      "metadata": {
        "id": "blG9EVwFYkHQ"
      },
      "source": [
        "text = '\\n\\n\\n\\n'.join(dfLyrics.Lyrics)"
      ],
      "execution_count": 15,
      "outputs": []
    },
    {
      "cell_type": "code",
      "metadata": {
        "id": "UawJxQgacJyx",
        "colab": {
          "base_uri": "https://localhost:8080/"
        },
        "outputId": "e18fd9ea-7862-4490-c3ee-1ca43a6f1f0c"
      },
      "source": [
        "len(text)"
      ],
      "execution_count": 16,
      "outputs": [
        {
          "output_type": "execute_result",
          "data": {
            "text/plain": [
              "1698948"
            ]
          },
          "metadata": {
            "tags": []
          },
          "execution_count": 16
        }
      ]
    },
    {
      "cell_type": "code",
      "metadata": {
        "id": "h7V2sPo5cWnZ",
        "colab": {
          "base_uri": "https://localhost:8080/"
        },
        "outputId": "0a5d5669-960f-438c-a018-8734178675e2"
      },
      "source": [
        "# Take a look at the first 250 characters in text\n",
        "print(text[:250])"
      ],
      "execution_count": 17,
      "outputs": [
        {
          "output_type": "stream",
          "text": [
            "\n",
            "\n",
            "Aaaaa Aaaaa\n",
            "Aaaaaa\n",
            "Aaaaaa\n",
            "Meetha Sa Ishq Laage\n",
            "Kadvi Judayi\n",
            "Yaar Mera Sacha Laage\n",
            "Jhooti Khudayi\n",
            "Meetha Sa Ishq Laage\n",
            "Kadvi Judayi\n",
            "Yaar Mera Sacha Laage\n",
            "Jhooti Khudayi\n",
            "Chandni Ne Tan Pe Mere\n",
            "Chaadar Bhichayee\n",
            "Odha Jo Tune Mujhko\n",
            "Saans Laut Aayi\n",
            "Cha\n"
          ],
          "name": "stdout"
        }
      ]
    },
    {
      "cell_type": "code",
      "metadata": {
        "id": "qsbKTfw1cdsL",
        "colab": {
          "base_uri": "https://localhost:8080/"
        },
        "outputId": "12ab0bf1-22a4-4f6d-e36b-d38d0808b5c2"
      },
      "source": [
        "vocab = sorted(set(text))\n",
        "print('{} unique characters'.format(len(vocab)))"
      ],
      "execution_count": 18,
      "outputs": [
        {
          "output_type": "stream",
          "text": [
            "86 unique characters\n"
          ],
          "name": "stdout"
        }
      ]
    },
    {
      "cell_type": "code",
      "metadata": {
        "id": "dsDrvvBtol31"
      },
      "source": [
        "char2idx = {u:i for i,u in enumerate(vocab)}"
      ],
      "execution_count": 19,
      "outputs": []
    },
    {
      "cell_type": "code",
      "metadata": {
        "id": "m1c_eFoGone-"
      },
      "source": [
        "idx2char = np.array(vocab)"
      ],
      "execution_count": 20,
      "outputs": []
    },
    {
      "cell_type": "code",
      "metadata": {
        "id": "DFJjvjFwpG9c"
      },
      "source": [
        "text_as_int = np.array([char2idx[x] for x in text])"
      ],
      "execution_count": 21,
      "outputs": []
    },
    {
      "cell_type": "code",
      "metadata": {
        "id": "eVy7A6px_7ld",
        "colab": {
          "base_uri": "https://localhost:8080/"
        },
        "outputId": "2ca7382b-515d-4bbf-cc27-1914f91b52ad"
      },
      "source": [
        "len(text_as_int)"
      ],
      "execution_count": 22,
      "outputs": [
        {
          "output_type": "execute_result",
          "data": {
            "text/plain": [
              "1698948"
            ]
          },
          "metadata": {
            "tags": []
          },
          "execution_count": 22
        }
      ]
    },
    {
      "cell_type": "code",
      "metadata": {
        "id": "OPoZRyxnAn6D",
        "colab": {
          "base_uri": "https://localhost:8080/"
        },
        "outputId": "af47f09c-ea15-4305-c512-983b6a493072"
      },
      "source": [
        "print('{')\n",
        "for char,_ in zip(char2idx, range(20)):\n",
        "    print('  {:4s}: {:3d},'.format(repr(char), char2idx[char]))\n",
        "print('  ...\\n}')"
      ],
      "execution_count": 23,
      "outputs": [
        {
          "output_type": "stream",
          "text": [
            "{\n",
            "  '\\t':   0,\n",
            "  '\\n':   1,\n",
            "  ' ' :   2,\n",
            "  '!' :   3,\n",
            "  '\"' :   4,\n",
            "  '&' :   5,\n",
            "  \"'\" :   6,\n",
            "  '(' :   7,\n",
            "  ')' :   8,\n",
            "  '*' :   9,\n",
            "  ',' :  10,\n",
            "  '-' :  11,\n",
            "  '.' :  12,\n",
            "  '/' :  13,\n",
            "  '0' :  14,\n",
            "  '1' :  15,\n",
            "  '2' :  16,\n",
            "  '3' :  17,\n",
            "  '4' :  18,\n",
            "  '5' :  19,\n",
            "  ...\n",
            "}\n"
          ],
          "name": "stdout"
        }
      ]
    },
    {
      "cell_type": "code",
      "metadata": {
        "id": "OT4N5qp8AxeS",
        "colab": {
          "base_uri": "https://localhost:8080/"
        },
        "outputId": "c90112e3-1a01-42e2-e938-5bba825a8c58"
      },
      "source": [
        "# Show how the first 13 characters from the text are mapped to integers\n",
        "print ('{} ---- characters mapped to int ---- > {}'.format(repr(text[:13]), text_as_int[:13]))"
      ],
      "execution_count": 24,
      "outputs": [
        {
          "output_type": "stream",
          "text": [
            "'\\n\\nAaaaa Aaaaa' ---- characters mapped to int ---- > [ 1  1 27 56 56 56 56  2 27 56 56 56 56]\n"
          ],
          "name": "stdout"
        }
      ]
    },
    {
      "cell_type": "code",
      "metadata": {
        "id": "T8qRC7xXB1rl"
      },
      "source": [
        "# The maximum length sentence we want for a single input in characters\n",
        "seq_length = 100\n",
        "examples_per_epoch = len(text)//(seq_length+1)"
      ],
      "execution_count": 25,
      "outputs": []
    },
    {
      "cell_type": "code",
      "metadata": {
        "id": "1PjumJztCDGI"
      },
      "source": [
        "# Create training examples / targets\n",
        "char_dataset = tf.data.Dataset.from_tensor_slices(text_as_int)"
      ],
      "execution_count": 26,
      "outputs": []
    },
    {
      "cell_type": "code",
      "metadata": {
        "id": "SlPIwyjQCKF8",
        "colab": {
          "base_uri": "https://localhost:8080/"
        },
        "outputId": "b1219756-1a93-4852-fb7b-c40c819cf4a6"
      },
      "source": [
        "char_dataset"
      ],
      "execution_count": 27,
      "outputs": [
        {
          "output_type": "execute_result",
          "data": {
            "text/plain": [
              "<TensorSliceDataset shapes: (), types: tf.int64>"
            ]
          },
          "metadata": {
            "tags": []
          },
          "execution_count": 27
        }
      ]
    },
    {
      "cell_type": "code",
      "metadata": {
        "id": "QB3YxcK3CSJE",
        "colab": {
          "base_uri": "https://localhost:8080/"
        },
        "outputId": "fe5d6246-2257-4b72-9d32-f8ebc0120be3"
      },
      "source": [
        "for i in char_dataset.take(5):\n",
        "  print(idx2char[i.numpy()])"
      ],
      "execution_count": 28,
      "outputs": [
        {
          "output_type": "stream",
          "text": [
            "\n",
            "\n",
            "\n",
            "\n",
            "A\n",
            "a\n",
            "a\n"
          ],
          "name": "stdout"
        }
      ]
    },
    {
      "cell_type": "code",
      "metadata": {
        "id": "_ITBAA_fCU9R"
      },
      "source": [
        "sequences = char_dataset.batch(seq_length+1, drop_remainder=True)"
      ],
      "execution_count": 29,
      "outputs": []
    },
    {
      "cell_type": "code",
      "metadata": {
        "id": "fUtqqIQ2CeqJ",
        "colab": {
          "base_uri": "https://localhost:8080/"
        },
        "outputId": "b87715ef-3d74-4bf1-ffbd-03f700291352"
      },
      "source": [
        "for item in sequences.take(5):\n",
        "  print(repr(''.join(idx2char[item.numpy()])))"
      ],
      "execution_count": 30,
      "outputs": [
        {
          "output_type": "stream",
          "text": [
            "'\\n\\nAaaaa Aaaaa\\nAaaaaa\\nAaaaaa\\nMeetha Sa Ishq Laage\\nKadvi Judayi\\nYaar Mera Sacha Laage\\nJhooti Khudayi\\nMe'\n",
            "'etha Sa Ishq Laage\\nKadvi Judayi\\nYaar Mera Sacha Laage\\nJhooti Khudayi\\nChandni Ne Tan Pe Mere\\nChaadar B'\n",
            "'hichayee\\nOdha Jo Tune Mujhko\\nSaans Laut Aayi\\nChandni Ne Tan Pe Mere\\nChaadar Bhichayee\\nOdha Jo Tune Mu'\n",
            "'jhko\\nSaans Laut Aayi\\nOhooooo Ohhoooo\\nYeh Aalam Hai Ishq Ishq Aalam Hai\\nOhooooo Ohhoooo\\nYeh Aalam Hai '\n",
            "'Ishq Ishq Aalam Hai\\n\\nMehndi Ka Rang Jhat Se Gehra Gaya\\nEk Pal Mein Haaye Kya Hua\\nPayalo Ka Shor Jaane'\n"
          ],
          "name": "stdout"
        }
      ]
    },
    {
      "cell_type": "code",
      "metadata": {
        "id": "aHslMBwtCgMM"
      },
      "source": [
        "def split_input_target(chunk):\n",
        "    input_text = chunk[:-1]\n",
        "    target_text = chunk[1:]\n",
        "    return input_text, target_text\n",
        "\n",
        "dataset = sequences.map(split_input_target)"
      ],
      "execution_count": 31,
      "outputs": []
    },
    {
      "cell_type": "code",
      "metadata": {
        "id": "JC8cPYUpC3T6",
        "colab": {
          "base_uri": "https://localhost:8080/"
        },
        "outputId": "94ad59d7-543a-4beb-f7bd-dc99956d3eef"
      },
      "source": [
        "for input_example, target_example in  dataset.take(1):\n",
        "  print ('Input data: ', repr(''.join(idx2char[input_example.numpy()])))\n",
        "  print ('Target data:', repr(''.join(idx2char[target_example.numpy()])))"
      ],
      "execution_count": 32,
      "outputs": [
        {
          "output_type": "stream",
          "text": [
            "Input data:  '\\n\\nAaaaa Aaaaa\\nAaaaaa\\nAaaaaa\\nMeetha Sa Ishq Laage\\nKadvi Judayi\\nYaar Mera Sacha Laage\\nJhooti Khudayi\\nM'\n",
            "Target data: '\\nAaaaa Aaaaa\\nAaaaaa\\nAaaaaa\\nMeetha Sa Ishq Laage\\nKadvi Judayi\\nYaar Mera Sacha Laage\\nJhooti Khudayi\\nMe'\n"
          ],
          "name": "stdout"
        }
      ]
    },
    {
      "cell_type": "code",
      "metadata": {
        "id": "ZLc7HtUCC4wp",
        "colab": {
          "base_uri": "https://localhost:8080/"
        },
        "outputId": "e0e62b35-045a-45ba-dd36-4e807e26c7df"
      },
      "source": [
        "for i, (input_idx, target_idx) in enumerate(zip(input_example[:5], target_example[:5])):\n",
        "    print(\"Step {:4d}\".format(i))\n",
        "    print(\"  input: {} ({:s})\".format(input_idx, repr(idx2char[input_idx])))\n",
        "    print(\"  expected output: {} ({:s})\".format(target_idx, repr(idx2char[target_idx])))"
      ],
      "execution_count": 33,
      "outputs": [
        {
          "output_type": "stream",
          "text": [
            "Step    0\n",
            "  input: 1 ('\\n')\n",
            "  expected output: 1 ('\\n')\n",
            "Step    1\n",
            "  input: 1 ('\\n')\n",
            "  expected output: 27 ('A')\n",
            "Step    2\n",
            "  input: 27 ('A')\n",
            "  expected output: 56 ('a')\n",
            "Step    3\n",
            "  input: 56 ('a')\n",
            "  expected output: 56 ('a')\n",
            "Step    4\n",
            "  input: 56 ('a')\n",
            "  expected output: 56 ('a')\n"
          ],
          "name": "stdout"
        }
      ]
    },
    {
      "cell_type": "code",
      "metadata": {
        "id": "N_dxGWxADKN8"
      },
      "source": [
        "# Batch size\n",
        "BATCH_SIZE = 64"
      ],
      "execution_count": 34,
      "outputs": []
    },
    {
      "cell_type": "code",
      "metadata": {
        "id": "FQejKo2qEo-6"
      },
      "source": [
        "# Buffer size to shuffle the dataset\n",
        "# (TF data is designed to work with possibly infinite sequences,\n",
        "# so it doesn't attempt to shuffle the entire sequence in memory. Instead,\n",
        "# it maintains a buffer in which it shuffles elements).\n",
        "BUFFER_SIZE = 10000"
      ],
      "execution_count": 35,
      "outputs": []
    },
    {
      "cell_type": "code",
      "metadata": {
        "id": "EEwIH9QIEqj8"
      },
      "source": [
        "dataset = dataset.shuffle(BUFFER_SIZE).batch(BATCH_SIZE, drop_remainder=True)\n"
      ],
      "execution_count": 36,
      "outputs": []
    },
    {
      "cell_type": "code",
      "metadata": {
        "id": "QRZGGkb9Ew81",
        "colab": {
          "base_uri": "https://localhost:8080/"
        },
        "outputId": "6d88726d-1f20-43a0-9fb3-895e06c2af71"
      },
      "source": [
        "dataset"
      ],
      "execution_count": 37,
      "outputs": [
        {
          "output_type": "execute_result",
          "data": {
            "text/plain": [
              "<BatchDataset shapes: ((64, 100), (64, 100)), types: (tf.int64, tf.int64)>"
            ]
          },
          "metadata": {
            "tags": []
          },
          "execution_count": 37
        }
      ]
    },
    {
      "cell_type": "code",
      "metadata": {
        "id": "rnQ5F7sJEx-3"
      },
      "source": [
        "# Length of the vocabulary in chars\n",
        "vocab_size = len(vocab)\n",
        "\n",
        "# The embedding dimension\n",
        "embedding_dim = 256\n",
        "\n",
        "# Number of RNN units\n",
        "rnn_units = 1024"
      ],
      "execution_count": 38,
      "outputs": []
    },
    {
      "cell_type": "code",
      "metadata": {
        "id": "viOfWQroFLcA"
      },
      "source": [
        "def build_model(vocab_size, embedding_dim, rnn_units, batch_size):\n",
        "  model = tf.keras.Sequential([\n",
        "    tf.keras.layers.Embedding(vocab_size, embedding_dim,\n",
        "                              batch_input_shape=[batch_size, None]),\n",
        "    tf.keras.layers.GRU(rnn_units,\n",
        "                        return_sequences=True,\n",
        "                        stateful=True,\n",
        "                        recurrent_initializer='glorot_uniform'),\n",
        "    tf.keras.layers.Dense(vocab_size)\n",
        "  ])\n",
        "  return model"
      ],
      "execution_count": 39,
      "outputs": []
    },
    {
      "cell_type": "code",
      "metadata": {
        "id": "OGjdg_HvFPuk"
      },
      "source": [
        "model = build_model(\n",
        "  vocab_size = len(vocab),\n",
        "  embedding_dim=embedding_dim,\n",
        "  rnn_units=rnn_units,\n",
        "  batch_size=BATCH_SIZE)"
      ],
      "execution_count": 40,
      "outputs": []
    },
    {
      "cell_type": "code",
      "metadata": {
        "id": "AiMKddKHFSOQ",
        "colab": {
          "base_uri": "https://localhost:8080/"
        },
        "outputId": "0983d5d4-392e-4e8e-e73b-5e1215792ea9"
      },
      "source": [
        "for input_example_batch, target_example_batch in dataset.take(1):\n",
        "  example_batch_predictions = model(input_example_batch)\n",
        "  print(example_batch_predictions.shape, \"# (batch_size, sequence_length, vocab_size)\")"
      ],
      "execution_count": 41,
      "outputs": [
        {
          "output_type": "stream",
          "text": [
            "(64, 100, 86) # (batch_size, sequence_length, vocab_size)\n"
          ],
          "name": "stdout"
        }
      ]
    },
    {
      "cell_type": "code",
      "metadata": {
        "id": "NitiaT_rFU_8",
        "colab": {
          "base_uri": "https://localhost:8080/"
        },
        "outputId": "0aa39c46-70cd-4502-f89e-3122fae63818"
      },
      "source": [
        "model.summary()"
      ],
      "execution_count": 42,
      "outputs": [
        {
          "output_type": "stream",
          "text": [
            "Model: \"sequential\"\n",
            "_________________________________________________________________\n",
            "Layer (type)                 Output Shape              Param #   \n",
            "=================================================================\n",
            "embedding (Embedding)        (64, None, 256)           22016     \n",
            "_________________________________________________________________\n",
            "gru (GRU)                    (64, None, 1024)          3938304   \n",
            "_________________________________________________________________\n",
            "dense (Dense)                (64, None, 86)            88150     \n",
            "=================================================================\n",
            "Total params: 4,048,470\n",
            "Trainable params: 4,048,470\n",
            "Non-trainable params: 0\n",
            "_________________________________________________________________\n"
          ],
          "name": "stdout"
        }
      ]
    },
    {
      "cell_type": "code",
      "metadata": {
        "id": "H2Bk9S5bFpg4"
      },
      "source": [
        "sampled_indices = tf.random.categorical(example_batch_predictions[0], num_samples=1)\n",
        "sampled_indices = tf.squeeze(sampled_indices,axis=-1).numpy()"
      ],
      "execution_count": 43,
      "outputs": []
    },
    {
      "cell_type": "code",
      "metadata": {
        "id": "M5jZSPClFsVl",
        "colab": {
          "base_uri": "https://localhost:8080/"
        },
        "outputId": "bf927c11-688c-4b84-90b2-0e93b0e61d5b"
      },
      "source": [
        "print(\"Input: \\n\", repr(\"\".join(idx2char[input_example_batch[0]])))\n",
        "print()\n",
        "print(\"Next Char Predictions: \\n\", repr(\"\".join(idx2char[sampled_indices ])))"
      ],
      "execution_count": 44,
      "outputs": [
        {
          "output_type": "stream",
          "text": [
            "Input: \n",
            " 'shaaron pe nachega saara jahan\\n\\nTak dhina dhin.. Hey aladin\\nBadli duniya ke aaya naya din\\nTak dhina '\n",
            "\n",
            "Next Char Predictions: \n",
            " 'dWw3T,-9\"9v=oyoeK|.9T1/EJ‘…bLiI7d,7hkG.X2a3ztje5kR‘Rb*KakO‘LT\\'Xu-Mt,M0d|XS\\'H‘\\t….L9jH5AU9\\twWbdEXKxt]\\''\n"
          ],
          "name": "stdout"
        }
      ]
    },
    {
      "cell_type": "code",
      "metadata": {
        "id": "PjUaJQm2FuSh",
        "colab": {
          "base_uri": "https://localhost:8080/"
        },
        "outputId": "a8062a02-1ac6-444e-e8fa-25d529c3d674"
      },
      "source": [
        "def loss(labels, logits):\n",
        "  return tf.keras.losses.sparse_categorical_crossentropy(labels, logits, from_logits=True)\n",
        "\n",
        "example_batch_loss  = loss(target_example_batch, example_batch_predictions)\n",
        "print(\"Prediction shape: \", example_batch_predictions.shape, \" # (batch_size, sequence_length, vocab_size)\")\n",
        "print(\"scalar_loss:      \", example_batch_loss.numpy().mean())"
      ],
      "execution_count": 45,
      "outputs": [
        {
          "output_type": "stream",
          "text": [
            "Prediction shape:  (64, 100, 86)  # (batch_size, sequence_length, vocab_size)\n",
            "scalar_loss:       4.453406\n"
          ],
          "name": "stdout"
        }
      ]
    },
    {
      "cell_type": "code",
      "metadata": {
        "id": "KeIJNTUFF3Ht"
      },
      "source": [
        "model.compile(optimizer='adam', loss=loss)"
      ],
      "execution_count": 46,
      "outputs": []
    },
    {
      "cell_type": "code",
      "metadata": {
        "id": "xfX9clyQF5ri"
      },
      "source": [
        "# Directory where the checkpoints will be saved\n",
        "checkpoint_dir = './training_checkpoints'\n",
        "# Name of the checkpoint files\n",
        "checkpoint_prefix = os.path.join(checkpoint_dir, \"ckpt_{epoch}\")\n",
        "\n",
        "checkpoint_callback=tf.keras.callbacks.ModelCheckpoint(\n",
        "    filepath=checkpoint_prefix,\n",
        "    save_weights_only=True)"
      ],
      "execution_count": 47,
      "outputs": []
    },
    {
      "cell_type": "code",
      "metadata": {
        "id": "3DjV0oFWF7nk"
      },
      "source": [
        "EPOCHS=20"
      ],
      "execution_count": 48,
      "outputs": []
    },
    {
      "cell_type": "code",
      "metadata": {
        "id": "TdToXfldF-Li"
      },
      "source": [
        "#history = model.fit(dataset, epochs=EPOCHS, callbacks=[checkpoint_callback])"
      ],
      "execution_count": 49,
      "outputs": []
    },
    {
      "cell_type": "code",
      "metadata": {
        "id": "1-k4YmYjGSXa",
        "colab": {
          "base_uri": "https://localhost:8080/",
          "height": 35
        },
        "outputId": "3b3926c5-f134-472e-dfca-4a53fc9984f6"
      },
      "source": [
        "tf.train.latest_checkpoint(checkpoint_dir)"
      ],
      "execution_count": 50,
      "outputs": [
        {
          "output_type": "execute_result",
          "data": {
            "application/vnd.google.colaboratory.intrinsic+json": {
              "type": "string"
            },
            "text/plain": [
              "'./training_checkpoints/ckpt_20'"
            ]
          },
          "metadata": {
            "tags": []
          },
          "execution_count": 50
        }
      ]
    },
    {
      "cell_type": "code",
      "metadata": {
        "id": "tzGuYhp6G3ph"
      },
      "source": [
        "model = build_model(vocab_size, embedding_dim, rnn_units, batch_size=1)\n",
        "\n",
        "model.load_weights(tf.train.latest_checkpoint(checkpoint_dir))\n",
        "\n",
        "model.build(tf.TensorShape([1, None]))"
      ],
      "execution_count": 51,
      "outputs": []
    },
    {
      "cell_type": "code",
      "metadata": {
        "id": "msvLV4TzG6Q7",
        "colab": {
          "base_uri": "https://localhost:8080/"
        },
        "outputId": "b6561cbf-cdca-4245-d9bb-18a26816051a"
      },
      "source": [
        "model.summary()"
      ],
      "execution_count": 52,
      "outputs": [
        {
          "output_type": "stream",
          "text": [
            "Model: \"sequential_1\"\n",
            "_________________________________________________________________\n",
            "Layer (type)                 Output Shape              Param #   \n",
            "=================================================================\n",
            "embedding_1 (Embedding)      (1, None, 256)            22016     \n",
            "_________________________________________________________________\n",
            "gru_1 (GRU)                  (1, None, 1024)           3938304   \n",
            "_________________________________________________________________\n",
            "dense_1 (Dense)              (1, None, 86)             88150     \n",
            "=================================================================\n",
            "Total params: 4,048,470\n",
            "Trainable params: 4,048,470\n",
            "Non-trainable params: 0\n",
            "_________________________________________________________________\n"
          ],
          "name": "stdout"
        }
      ]
    },
    {
      "cell_type": "code",
      "metadata": {
        "id": "_-Bln5JnG8bU"
      },
      "source": [
        "def generate_text(model, start_string):\n",
        "  # Evaluation step (generating text using the learned model)\n",
        "\n",
        "  # Number of characters to generate\n",
        "  num_generate = 1000\n",
        "\n",
        "  # Converting our start string to numbers (vectorizing)\n",
        "  input_eval = [char2idx[s] for s in start_string]\n",
        "  input_eval = tf.expand_dims(input_eval, 0)\n",
        "\n",
        "  # Empty string to store our results\n",
        "  text_generated = []\n",
        "\n",
        "  # Low temperatures results in more predictable text.\n",
        "  # Higher temperatures results in more surprising text.\n",
        "  # Experiment to find the best setting.\n",
        "  temperature = 1.0\n",
        "\n",
        "  # Here batch size == 1\n",
        "  model.reset_states()\n",
        "  for i in range(num_generate):\n",
        "      predictions = model(input_eval)\n",
        "      # remove the batch dimension\n",
        "      predictions = tf.squeeze(predictions, 0)\n",
        "\n",
        "      # using a categorical distribution to predict the character returned by the model\n",
        "      predictions = predictions / temperature\n",
        "      predicted_id = tf.random.categorical(predictions, num_samples=1)[-1,0].numpy()\n",
        "\n",
        "      # We pass the predicted character as the next input to the model\n",
        "      # along with the previous hidden state\n",
        "      input_eval = tf.expand_dims([predicted_id], 0)\n",
        "\n",
        "      text_generated.append(idx2char[predicted_id])\n",
        "\n",
        "  return (start_string + ''.join(text_generated))"
      ],
      "execution_count": 53,
      "outputs": []
    },
    {
      "cell_type": "code",
      "metadata": {
        "id": "VTyKI3AOG-xP",
        "colab": {
          "base_uri": "https://localhost:8080/"
        },
        "outputId": "6a9e18fb-f005-4a88-c3c0-2c6e36b832e0"
      },
      "source": [
        "print(generate_text(model, start_string=u'jab se tere naina'))"
      ],
      "execution_count": 55,
      "outputs": [
        {
          "output_type": "stream",
          "text": [
            "jab se tere naina meethe ghaat ka\n",
            "Mera dil hai ptak raha\n",
            "\n",
            "Are dekho bemarwaar kyun kya jaane\n",
            "Dil ko mila pal pal barse tujhe, main hoon bewajaa..\n",
            "Tujhko plene mein chupi\n",
            "Dekho muftie endri si namkeen, jine le jaaye, tujhko main dekhun\n",
            "Baahon mei leke jaanay baithe baithe\n",
            "Chaand ki chhori yeh agan-ve\n",
            "\n",
            "Ga raa ringa ding dang aaieye...\n",
            "\n",
            "\n",
            "\n",
            "\n",
            "\n",
            " \n",
            "\n",
            "Kadam kya basti, jesi hai pariye\n",
            "Udaash teri aadat hai\n",
            "Tu dikhmani, dont it up!\n",
            "(i wanna hila woh,\n",
            "Ude utha ho ya koi jadugari\n",
            "\n",
            "Teri aankhon ka sameen hai\n",
            "Tere bin kahan pe hai, tum zindag zameen pe-chalti hai\n",
            "Pehle ka rang jo hai mujhse\n",
            "Rubahu tu hmm\n",
            "\n",
            "Aehn meri\n",
            "Tu kheech meri photo. le tu\n",
            "\n",
            "\n",
            "Tere bin mein wahan jaane kya\n",
            "Fikar dhadke jiyein aaye, vaare dil ko\n",
            "Ho gaya s, leke chal bhave\n",
            "O to chaska ghumaar\n",
            "Khaali huaa aashiq\n",
            "Tum tip top friday)\n",
            "Ha ha laga kehna \n",
            "Pyaar waalay chadhayegi badley gaadi doubt hai\n",
            "Uski khushi ho saam de\n",
            "Raah mein dekhun na baithe baithe\n",
            "Chahe toh jaadu karte hain to\n",
            "Darge, hulce hain adhoore sexy\n",
            "Hey.'itbon'mein hai jaisa,\n",
            "Bahi jhalak tum.\n"
          ],
          "name": "stdout"
        }
      ]
    },
    {
      "cell_type": "code",
      "metadata": {
        "id": "Lwz_Dp6SQCbF"
      },
      "source": [
        "\n"
      ],
      "execution_count": null,
      "outputs": []
    }
  ]
}